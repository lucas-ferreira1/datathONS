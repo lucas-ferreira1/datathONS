{
 "cells": [
  {
   "cell_type": "code",
   "execution_count": 1,
   "metadata": {},
   "outputs": [
    {
     "name": "stderr",
     "output_type": "stream",
     "text": [
      "<>:5: SyntaxWarning: invalid escape sequence '\\d'\n",
      "<>:7: SyntaxWarning: invalid escape sequence '\\d'\n",
      "<>:9: SyntaxWarning: invalid escape sequence '\\d'\n",
      "<>:11: SyntaxWarning: invalid escape sequence '\\d'\n",
      "<>:5: SyntaxWarning: invalid escape sequence '\\d'\n",
      "<>:7: SyntaxWarning: invalid escape sequence '\\d'\n",
      "<>:9: SyntaxWarning: invalid escape sequence '\\d'\n",
      "<>:11: SyntaxWarning: invalid escape sequence '\\d'\n",
      "C:\\Users\\renan\\AppData\\Local\\Temp\\ipykernel_15300\\4280298891.py:5: SyntaxWarning: invalid escape sequence '\\d'\n",
      "  dados_carga_mm = pd.read_csv(\"..\\databases\\dados_carga_mm.csv\")\n",
      "C:\\Users\\renan\\AppData\\Local\\Temp\\ipykernel_15300\\4280298891.py:7: SyntaxWarning: invalid escape sequence '\\d'\n",
      "  dados_diaespecial = pd.read_csv(\"..\\databases\\dados_diaespecial.csv\")\n",
      "C:\\Users\\renan\\AppData\\Local\\Temp\\ipykernel_15300\\4280298891.py:9: SyntaxWarning: invalid escape sequence '\\d'\n",
      "  dados_carga = pd.read_csv(\"..\\databases\\dados_carga.csv\", delimiter=';', skiprows=0, low_memory=False)\n",
      "C:\\Users\\renan\\AppData\\Local\\Temp\\ipykernel_15300\\4280298891.py:11: SyntaxWarning: invalid escape sequence '\\d'\n",
      "  capacidade_instalada = pd.read_csv(\"..\\databases\\capacidade_instalada.csv\", delimiter=';', skiprows=0, low_memory=False)\n"
     ]
    }
   ],
   "source": [
    "import pandas as pd\n",
    "\n",
    "#Importing data\n",
    "\n",
    "dados_carga_mm = pd.read_csv(\"..\\databases\\dados_carga_mm.csv\") \n",
    "\n",
    "dados_diaespecial = pd.read_csv(\"..\\databases\\dados_diaespecial.csv\")\n",
    "\n",
    "dados_carga = pd.read_csv(\"..\\databases\\dados_carga.csv\", delimiter=';', skiprows=0, low_memory=False)\n",
    "\n",
    "capacidade_instalada = pd.read_csv(\"..\\databases\\capacidade_instalada.csv\", delimiter=';', skiprows=0, low_memory=False)\n",
    "\n",
    "\n"
   ]
  },
  {
   "cell_type": "code",
   "execution_count": 66,
   "metadata": {},
   "outputs": [
    {
     "data": {
      "text/plain": [
       "0         SECO\n",
       "1         SECO\n",
       "2         SECO\n",
       "3         SECO\n",
       "4         SECO\n",
       "          ... \n",
       "561027       N\n",
       "561028       N\n",
       "561029       N\n",
       "561030       N\n",
       "561031       N\n",
       "Name: cod_areacarga, Length: 561032, dtype: object"
      ]
     },
     "execution_count": 66,
     "metadata": {},
     "output_type": "execute_result"
    },
    {
     "ename": "",
     "evalue": "",
     "output_type": "error",
     "traceback": [
      "\u001b[1;31mThe Kernel crashed while executing code in the current cell or a previous cell. \n",
      "\u001b[1;31mPlease review the code in the cell(s) to identify a possible cause of the failure. \n",
      "\u001b[1;31mClick <a href='https://aka.ms/vscodeJupyterKernelCrash'>here</a> for more info. \n",
      "\u001b[1;31mView Jupyter <a href='command:jupyter.viewOutput'>log</a> for further details."
     ]
    }
   ],
   "source": [
    "\n",
    "dados_carga['cod_areacarga']\n"
   ]
  },
  {
   "cell_type": "code",
   "execution_count": 54,
   "metadata": {},
   "outputs": [
    {
     "data": {
      "text/plain": [
       "(561032, 11)"
      ]
     },
     "execution_count": 54,
     "metadata": {},
     "output_type": "execute_result"
    }
   ],
   "source": [
    "dados_carga.shape\n"
   ]
  }
 ],
 "metadata": {
  "kernelspec": {
   "display_name": "Python 3",
   "language": "python",
   "name": "python3"
  },
  "language_info": {
   "codemirror_mode": {
    "name": "ipython",
    "version": 3
   },
   "file_extension": ".py",
   "mimetype": "text/x-python",
   "name": "python",
   "nbconvert_exporter": "python",
   "pygments_lexer": "ipython3",
   "version": "3.12.2"
  }
 },
 "nbformat": 4,
 "nbformat_minor": 2
}
